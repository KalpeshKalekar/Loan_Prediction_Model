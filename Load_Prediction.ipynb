{
 "cells": [
  {
   "cell_type": "markdown",
   "id": "a6a3fa34",
   "metadata": {},
   "source": [
    "# Problem Statement"
   ]
  },
  {
   "cell_type": "raw",
   "id": "134cf977",
   "metadata": {},
   "source": [
    "A Company wants to automate the loan eligibility process based on customer details provided while filling online application form. The details filled by the customer are Gender, Marital Status, Education, Number of Dependents, Income of self and co applicant, Required Loan Amount, Required Loan Term, Credit History and others. The requirements are as follows:\n",
    "\n",
    "Check eligibility of the Customer given the inputs described above."
   ]
  },
  {
   "cell_type": "markdown",
   "id": "6c7543d8",
   "metadata": {},
   "source": [
    "# Filter Warnings "
   ]
  },
  {
   "cell_type": "code",
   "execution_count": 1,
   "id": "b5d0455f",
   "metadata": {},
   "outputs": [],
   "source": [
    "from warnings import filterwarnings\n",
    "filterwarnings(\"ignore\")"
   ]
  },
  {
   "cell_type": "markdown",
   "id": "b17ede19",
   "metadata": {},
   "source": [
    "# Read Dataset"
   ]
  },
  {
   "cell_type": "code",
   "execution_count": 2,
   "id": "58f60024",
   "metadata": {},
   "outputs": [],
   "source": [
    "import pandas as pd"
   ]
  },
  {
   "cell_type": "code",
   "execution_count": 3,
   "id": "14f89582",
   "metadata": {},
   "outputs": [],
   "source": [
    "train = pd.read_csv(\"F:/Course/ML/DL/18_Project/training_set (2).csv\")\n",
    "test = pd.read_csv(\"F:/Course/ML/DL/18_Project/testing_set (1).csv\")"
   ]
  },
  {
   "cell_type": "code",
   "execution_count": 4,
   "id": "83822b42",
   "metadata": {},
   "outputs": [
    {
     "data": {
      "text/html": [
       "<div>\n",
       "<style scoped>\n",
       "    .dataframe tbody tr th:only-of-type {\n",
       "        vertical-align: middle;\n",
       "    }\n",
       "\n",
       "    .dataframe tbody tr th {\n",
       "        vertical-align: top;\n",
       "    }\n",
       "\n",
       "    .dataframe thead th {\n",
       "        text-align: right;\n",
       "    }\n",
       "</style>\n",
       "<table border=\"1\" class=\"dataframe\">\n",
       "  <thead>\n",
       "    <tr style=\"text-align: right;\">\n",
       "      <th></th>\n",
       "      <th>Loan_ID</th>\n",
       "      <th>Gender</th>\n",
       "      <th>Married</th>\n",
       "      <th>Dependents</th>\n",
       "      <th>Education</th>\n",
       "      <th>Self_Employed</th>\n",
       "      <th>ApplicantIncome</th>\n",
       "      <th>CoapplicantIncome</th>\n",
       "      <th>LoanAmount</th>\n",
       "      <th>Loan_Amount_Term</th>\n",
       "      <th>Credit_History</th>\n",
       "      <th>Property_Area</th>\n",
       "      <th>Loan_Status</th>\n",
       "    </tr>\n",
       "  </thead>\n",
       "  <tbody>\n",
       "    <tr>\n",
       "      <th>0</th>\n",
       "      <td>LP001002</td>\n",
       "      <td>Male</td>\n",
       "      <td>No</td>\n",
       "      <td>0</td>\n",
       "      <td>Graduate</td>\n",
       "      <td>No</td>\n",
       "      <td>5849.0</td>\n",
       "      <td>0.0</td>\n",
       "      <td>NaN</td>\n",
       "      <td>360.0</td>\n",
       "      <td>1.0</td>\n",
       "      <td>Urban</td>\n",
       "      <td>Y</td>\n",
       "    </tr>\n",
       "    <tr>\n",
       "      <th>1</th>\n",
       "      <td>LP001003</td>\n",
       "      <td>Male</td>\n",
       "      <td>Yes</td>\n",
       "      <td>1</td>\n",
       "      <td>Graduate</td>\n",
       "      <td>No</td>\n",
       "      <td>NaN</td>\n",
       "      <td>1508.0</td>\n",
       "      <td>128.0</td>\n",
       "      <td>360.0</td>\n",
       "      <td>1.0</td>\n",
       "      <td>Rural</td>\n",
       "      <td>N</td>\n",
       "    </tr>\n",
       "    <tr>\n",
       "      <th>2</th>\n",
       "      <td>LP001005</td>\n",
       "      <td>Male</td>\n",
       "      <td>Yes</td>\n",
       "      <td>0</td>\n",
       "      <td>Graduate</td>\n",
       "      <td>Yes</td>\n",
       "      <td>3000.0</td>\n",
       "      <td>0.0</td>\n",
       "      <td>66.0</td>\n",
       "      <td>360.0</td>\n",
       "      <td>1.0</td>\n",
       "      <td>Urban</td>\n",
       "      <td>Y</td>\n",
       "    </tr>\n",
       "    <tr>\n",
       "      <th>3</th>\n",
       "      <td>LP001006</td>\n",
       "      <td>Male</td>\n",
       "      <td>Yes</td>\n",
       "      <td>0</td>\n",
       "      <td>Not Graduate</td>\n",
       "      <td>No</td>\n",
       "      <td>2583.0</td>\n",
       "      <td>2358.0</td>\n",
       "      <td>120.0</td>\n",
       "      <td>360.0</td>\n",
       "      <td>1.0</td>\n",
       "      <td>Urban</td>\n",
       "      <td>Y</td>\n",
       "    </tr>\n",
       "    <tr>\n",
       "      <th>4</th>\n",
       "      <td>LP001008</td>\n",
       "      <td>Male</td>\n",
       "      <td>No</td>\n",
       "      <td>0</td>\n",
       "      <td>Graduate</td>\n",
       "      <td>No</td>\n",
       "      <td>6000.0</td>\n",
       "      <td>0.0</td>\n",
       "      <td>141.0</td>\n",
       "      <td>360.0</td>\n",
       "      <td>1.0</td>\n",
       "      <td>Urban</td>\n",
       "      <td>Y</td>\n",
       "    </tr>\n",
       "  </tbody>\n",
       "</table>\n",
       "</div>"
      ],
      "text/plain": [
       "    Loan_ID Gender Married Dependents     Education Self_Employed  \\\n",
       "0  LP001002   Male      No          0      Graduate            No   \n",
       "1  LP001003   Male     Yes          1      Graduate            No   \n",
       "2  LP001005   Male     Yes          0      Graduate           Yes   \n",
       "3  LP001006   Male     Yes          0  Not Graduate            No   \n",
       "4  LP001008   Male      No          0      Graduate            No   \n",
       "\n",
       "   ApplicantIncome  CoapplicantIncome  LoanAmount  Loan_Amount_Term  \\\n",
       "0           5849.0                0.0         NaN             360.0   \n",
       "1              NaN             1508.0       128.0             360.0   \n",
       "2           3000.0                0.0        66.0             360.0   \n",
       "3           2583.0             2358.0       120.0             360.0   \n",
       "4           6000.0                0.0       141.0             360.0   \n",
       "\n",
       "   Credit_History Property_Area Loan_Status  \n",
       "0             1.0         Urban           Y  \n",
       "1             1.0         Rural           N  \n",
       "2             1.0         Urban           Y  \n",
       "3             1.0         Urban           Y  \n",
       "4             1.0         Urban           Y  "
      ]
     },
     "execution_count": 4,
     "metadata": {},
     "output_type": "execute_result"
    }
   ],
   "source": [
    "train.head(5)"
   ]
  },
  {
   "cell_type": "code",
   "execution_count": 5,
   "id": "e5fa11fe",
   "metadata": {},
   "outputs": [
    {
     "data": {
      "text/html": [
       "<div>\n",
       "<style scoped>\n",
       "    .dataframe tbody tr th:only-of-type {\n",
       "        vertical-align: middle;\n",
       "    }\n",
       "\n",
       "    .dataframe tbody tr th {\n",
       "        vertical-align: top;\n",
       "    }\n",
       "\n",
       "    .dataframe thead th {\n",
       "        text-align: right;\n",
       "    }\n",
       "</style>\n",
       "<table border=\"1\" class=\"dataframe\">\n",
       "  <thead>\n",
       "    <tr style=\"text-align: right;\">\n",
       "      <th></th>\n",
       "      <th>Loan_ID</th>\n",
       "      <th>Gender</th>\n",
       "      <th>Married</th>\n",
       "      <th>Dependents</th>\n",
       "      <th>Education</th>\n",
       "      <th>Self_Employed</th>\n",
       "      <th>ApplicantIncome</th>\n",
       "      <th>CoapplicantIncome</th>\n",
       "      <th>LoanAmount</th>\n",
       "      <th>Loan_Amount_Term</th>\n",
       "      <th>Credit_History</th>\n",
       "      <th>Property_Area</th>\n",
       "    </tr>\n",
       "  </thead>\n",
       "  <tbody>\n",
       "    <tr>\n",
       "      <th>0</th>\n",
       "      <td>LP001015</td>\n",
       "      <td>Male</td>\n",
       "      <td>Yes</td>\n",
       "      <td>0</td>\n",
       "      <td>Graduate</td>\n",
       "      <td>No</td>\n",
       "      <td>5720</td>\n",
       "      <td>0</td>\n",
       "      <td>110.0</td>\n",
       "      <td>360.0</td>\n",
       "      <td>1.0</td>\n",
       "      <td>Urban</td>\n",
       "    </tr>\n",
       "    <tr>\n",
       "      <th>1</th>\n",
       "      <td>LP001022</td>\n",
       "      <td>Male</td>\n",
       "      <td>Yes</td>\n",
       "      <td>1</td>\n",
       "      <td>Graduate</td>\n",
       "      <td>No</td>\n",
       "      <td>3076</td>\n",
       "      <td>1500</td>\n",
       "      <td>126.0</td>\n",
       "      <td>360.0</td>\n",
       "      <td>1.0</td>\n",
       "      <td>Urban</td>\n",
       "    </tr>\n",
       "    <tr>\n",
       "      <th>2</th>\n",
       "      <td>LP001031</td>\n",
       "      <td>Male</td>\n",
       "      <td>Yes</td>\n",
       "      <td>2</td>\n",
       "      <td>Graduate</td>\n",
       "      <td>No</td>\n",
       "      <td>5000</td>\n",
       "      <td>1800</td>\n",
       "      <td>208.0</td>\n",
       "      <td>360.0</td>\n",
       "      <td>1.0</td>\n",
       "      <td>Urban</td>\n",
       "    </tr>\n",
       "    <tr>\n",
       "      <th>3</th>\n",
       "      <td>LP001035</td>\n",
       "      <td>Male</td>\n",
       "      <td>Yes</td>\n",
       "      <td>2</td>\n",
       "      <td>Graduate</td>\n",
       "      <td>No</td>\n",
       "      <td>2340</td>\n",
       "      <td>2546</td>\n",
       "      <td>100.0</td>\n",
       "      <td>360.0</td>\n",
       "      <td>NaN</td>\n",
       "      <td>Urban</td>\n",
       "    </tr>\n",
       "    <tr>\n",
       "      <th>4</th>\n",
       "      <td>LP001051</td>\n",
       "      <td>Male</td>\n",
       "      <td>No</td>\n",
       "      <td>0</td>\n",
       "      <td>Not Graduate</td>\n",
       "      <td>No</td>\n",
       "      <td>3276</td>\n",
       "      <td>0</td>\n",
       "      <td>78.0</td>\n",
       "      <td>360.0</td>\n",
       "      <td>1.0</td>\n",
       "      <td>Urban</td>\n",
       "    </tr>\n",
       "  </tbody>\n",
       "</table>\n",
       "</div>"
      ],
      "text/plain": [
       "    Loan_ID Gender Married Dependents     Education Self_Employed  \\\n",
       "0  LP001015   Male     Yes          0      Graduate            No   \n",
       "1  LP001022   Male     Yes          1      Graduate            No   \n",
       "2  LP001031   Male     Yes          2      Graduate            No   \n",
       "3  LP001035   Male     Yes          2      Graduate            No   \n",
       "4  LP001051   Male      No          0  Not Graduate            No   \n",
       "\n",
       "   ApplicantIncome  CoapplicantIncome  LoanAmount  Loan_Amount_Term  \\\n",
       "0             5720                  0       110.0             360.0   \n",
       "1             3076               1500       126.0             360.0   \n",
       "2             5000               1800       208.0             360.0   \n",
       "3             2340               2546       100.0             360.0   \n",
       "4             3276                  0        78.0             360.0   \n",
       "\n",
       "   Credit_History Property_Area  \n",
       "0             1.0         Urban  \n",
       "1             1.0         Urban  \n",
       "2             1.0         Urban  \n",
       "3             NaN         Urban  \n",
       "4             1.0         Urban  "
      ]
     },
     "execution_count": 5,
     "metadata": {},
     "output_type": "execute_result"
    }
   ],
   "source": [
    "test.head(5)"
   ]
  },
  {
   "cell_type": "code",
   "execution_count": 6,
   "id": "60390b76",
   "metadata": {},
   "outputs": [
    {
     "data": {
      "text/plain": [
       "Loan_ID               0\n",
       "Gender               15\n",
       "Married               3\n",
       "Dependents           15\n",
       "Education             1\n",
       "Self_Employed        32\n",
       "ApplicantIncome       2\n",
       "CoapplicantIncome     1\n",
       "LoanAmount           22\n",
       "Loan_Amount_Term     14\n",
       "Credit_History       50\n",
       "Property_Area         0\n",
       "Loan_Status           0\n",
       "dtype: int64"
      ]
     },
     "execution_count": 6,
     "metadata": {},
     "output_type": "execute_result"
    }
   ],
   "source": [
    "train.isna().sum()"
   ]
  },
  {
   "cell_type": "code",
   "execution_count": 7,
   "id": "3a810f9f",
   "metadata": {},
   "outputs": [
    {
     "data": {
      "text/plain": [
       "Loan_ID               0\n",
       "Gender               11\n",
       "Married               0\n",
       "Dependents           10\n",
       "Education             0\n",
       "Self_Employed        23\n",
       "ApplicantIncome       0\n",
       "CoapplicantIncome     0\n",
       "LoanAmount            5\n",
       "Loan_Amount_Term      6\n",
       "Credit_History       29\n",
       "Property_Area         0\n",
       "dtype: int64"
      ]
     },
     "execution_count": 7,
     "metadata": {},
     "output_type": "execute_result"
    }
   ],
   "source": [
    "test.isna().sum()"
   ]
  },
  {
   "cell_type": "markdown",
   "id": "78fdbb93",
   "metadata": {},
   "source": [
    "# Missing data treatment"
   ]
  },
  {
   "cell_type": "code",
   "execution_count": 8,
   "id": "98a4f741",
   "metadata": {},
   "outputs": [],
   "source": [
    "from ml_functions import replacer,chisq,outliers,preprocessing,standardize,catconsep,ANOVA"
   ]
  },
  {
   "cell_type": "code",
   "execution_count": 9,
   "id": "aa04f168",
   "metadata": {},
   "outputs": [],
   "source": [
    "replacer(train)\n",
    "replacer(test)"
   ]
  },
  {
   "cell_type": "code",
   "execution_count": 10,
   "id": "71651472",
   "metadata": {},
   "outputs": [
    {
     "data": {
      "text/plain": [
       "Loan_ID              0\n",
       "Gender               0\n",
       "Married              0\n",
       "Dependents           0\n",
       "Education            0\n",
       "Self_Employed        0\n",
       "ApplicantIncome      0\n",
       "CoapplicantIncome    0\n",
       "LoanAmount           0\n",
       "Loan_Amount_Term     0\n",
       "Credit_History       0\n",
       "Property_Area        0\n",
       "Loan_Status          0\n",
       "dtype: int64"
      ]
     },
     "execution_count": 10,
     "metadata": {},
     "output_type": "execute_result"
    }
   ],
   "source": [
    "train.isna().sum()"
   ]
  },
  {
   "cell_type": "code",
   "execution_count": 11,
   "id": "bb2474f9",
   "metadata": {},
   "outputs": [
    {
     "data": {
      "text/plain": [
       "Loan_ID              0\n",
       "Gender               0\n",
       "Married              0\n",
       "Dependents           0\n",
       "Education            0\n",
       "Self_Employed        0\n",
       "ApplicantIncome      0\n",
       "CoapplicantIncome    0\n",
       "LoanAmount           0\n",
       "Loan_Amount_Term     0\n",
       "Credit_History       0\n",
       "Property_Area        0\n",
       "dtype: int64"
      ]
     },
     "execution_count": 11,
     "metadata": {},
     "output_type": "execute_result"
    }
   ],
   "source": [
    "test.isna().sum()"
   ]
  },
  {
   "cell_type": "markdown",
   "id": "37b93f96",
   "metadata": {},
   "source": [
    "# Finding unsual data in data set"
   ]
  },
  {
   "cell_type": "code",
   "execution_count": 12,
   "id": "a658d2ac",
   "metadata": {},
   "outputs": [
    {
     "name": "stdout",
     "output_type": "stream",
     "text": [
      "LP001333    1\n",
      "LP002398    1\n",
      "LP002263    1\n",
      "LP002625    1\n",
      "LP001027    1\n",
      "           ..\n",
      "LP002524    1\n",
      "LP002868    1\n",
      "LP002863    1\n",
      "LP001310    1\n",
      "LP001811    1\n",
      "Name: Loan_ID, Length: 614, dtype: int64\n",
      "Male      502\n",
      "Female    112\n",
      "Name: Gender, dtype: int64\n",
      "Yes    401\n",
      "No     213\n",
      "Name: Married, dtype: int64\n",
      "0     360\n",
      "1     102\n",
      "2     101\n",
      "3+     51\n",
      "Name: Dependents, dtype: int64\n",
      "Graduate        480\n",
      "Not Graduate    134\n",
      "Name: Education, dtype: int64\n",
      "No     532\n",
      "Yes     82\n",
      "Name: Self_Employed, dtype: int64\n",
      "2500.0    9\n",
      "2600.0    6\n",
      "6000.0    6\n",
      "3750.0    5\n",
      "5000.0    5\n",
      "         ..\n",
      "6133.0    1\n",
      "2058.0    1\n",
      "2787.0    1\n",
      "6256.0    1\n",
      "5829.0    1\n",
      "Name: ApplicantIncome, Length: 505, dtype: int64\n",
      "0.0       273\n",
      "2500.0      5\n",
      "2083.0      5\n",
      "1666.0      5\n",
      "1625.0      3\n",
      "         ... \n",
      "3447.0      1\n",
      "688.0       1\n",
      "2669.0      1\n",
      "189.0       1\n",
      "1700.0      1\n",
      "Name: CoapplicantIncome, Length: 287, dtype: int64\n",
      "146.412162    22\n",
      "120.000000    20\n",
      "110.000000    17\n",
      "100.000000    15\n",
      "160.000000    12\n",
      "              ..\n",
      "211.000000     1\n",
      "250.000000     1\n",
      "62.000000      1\n",
      "85.000000      1\n",
      "436.000000     1\n",
      "Name: LoanAmount, Length: 204, dtype: int64\n",
      "360.0    512\n",
      "180.0     44\n",
      "480.0     15\n",
      "342.0     14\n",
      "300.0     13\n",
      "84.0       4\n",
      "240.0      4\n",
      "120.0      3\n",
      "36.0       2\n",
      "60.0       2\n",
      "12.0       1\n",
      "Name: Loan_Amount_Term, dtype: int64\n",
      "1.000000    475\n",
      "0.000000     89\n",
      "0.842199     50\n",
      "Name: Credit_History, dtype: int64\n",
      "Semiurban    233\n",
      "Urban        202\n",
      "Rural        179\n",
      "Name: Property_Area, dtype: int64\n",
      "Y    422\n",
      "N    192\n",
      "Name: Loan_Status, dtype: int64\n"
     ]
    }
   ],
   "source": [
    "for i in train.columns:\n",
    "    print(train[i].value_counts())"
   ]
  },
  {
   "cell_type": "markdown",
   "id": "65b8330c",
   "metadata": {},
   "source": [
    "Only column \"Dependents\" have a unsual value of 3+ "
   ]
  },
  {
   "cell_type": "code",
   "execution_count": 13,
   "id": "62c4c7ba",
   "metadata": {},
   "outputs": [
    {
     "name": "stdout",
     "output_type": "stream",
     "text": [
      "LP002245    1\n",
      "LP002192    1\n",
      "LP002450    1\n",
      "LP002442    1\n",
      "LP001921    1\n",
      "           ..\n",
      "LP001466    1\n",
      "LP002279    1\n",
      "LP002806    1\n",
      "LP001878    1\n",
      "LP001662    1\n",
      "Name: Loan_ID, Length: 367, dtype: int64\n",
      "Male      297\n",
      "Female     70\n",
      "Name: Gender, dtype: int64\n",
      "Yes    233\n",
      "No     134\n",
      "Name: Married, dtype: int64\n",
      "0     210\n",
      "2      59\n",
      "1      58\n",
      "3+     40\n",
      "Name: Dependents, dtype: int64\n",
      "Graduate        283\n",
      "Not Graduate     84\n",
      "Name: Education, dtype: int64\n",
      "No     330\n",
      "Yes     37\n",
      "Name: Self_Employed, dtype: int64\n",
      "5000    6\n",
      "3500    6\n",
      "3333    5\n",
      "4333    4\n",
      "2500    4\n",
      "       ..\n",
      "2412    1\n",
      "5293    1\n",
      "3125    1\n",
      "6825    1\n",
      "3583    1\n",
      "Name: ApplicantIncome, Length: 314, dtype: int64\n",
      "0       156\n",
      "2000      3\n",
      "700       3\n",
      "1083      2\n",
      "1517      2\n",
      "       ... \n",
      "4309      1\n",
      "2774      1\n",
      "3803      1\n",
      "2845      1\n",
      "3333      1\n",
      "Name: CoapplicantIncome, Length: 194, dtype: int64\n",
      "150.0    12\n",
      "125.0    11\n",
      "110.0    10\n",
      "90.0      9\n",
      "187.0     9\n",
      "         ..\n",
      "68.0      1\n",
      "159.0     1\n",
      "155.0     1\n",
      "257.0     1\n",
      "234.0     1\n",
      "Name: LoanAmount, Length: 145, dtype: int64\n",
      "360.000000    311\n",
      "180.000000     22\n",
      "480.000000      8\n",
      "300.000000      7\n",
      "342.537396      6\n",
      "240.000000      4\n",
      "84.000000       3\n",
      "350.000000      1\n",
      "12.000000       1\n",
      "36.000000       1\n",
      "120.000000      1\n",
      "60.000000       1\n",
      "6.000000        1\n",
      "Name: Loan_Amount_Term, dtype: int64\n",
      "1.000000    279\n",
      "0.000000     59\n",
      "0.825444     29\n",
      "Name: Credit_History, dtype: int64\n",
      "Urban        140\n",
      "Semiurban    116\n",
      "Rural        111\n",
      "Name: Property_Area, dtype: int64\n"
     ]
    }
   ],
   "source": [
    " for i in test.columns:\n",
    "    print(test[i].value_counts())"
   ]
  },
  {
   "cell_type": "markdown",
   "id": "4a2f52f4",
   "metadata": {},
   "source": [
    "Only column \"Dependents\" have a unsual value of 3+"
   ]
  },
  {
   "cell_type": "markdown",
   "id": "88deb112",
   "metadata": {},
   "source": [
    "# Replacing unsual values from both dataset"
   ]
  },
  {
   "cell_type": "code",
   "execution_count": 14,
   "id": "bc8134c1",
   "metadata": {},
   "outputs": [],
   "source": [
    "train[\"Dependents\"] = train[\"Dependents\"].replace([\"3+\"], 4)\n",
    "test[\"Dependents\"] = test[\"Dependents\"].replace([\"3+\"], 4)"
   ]
  },
  {
   "cell_type": "code",
   "execution_count": 15,
   "id": "642f38f9",
   "metadata": {},
   "outputs": [
    {
     "data": {
      "text/plain": [
       "0    360\n",
       "1    102\n",
       "2    101\n",
       "4     51\n",
       "Name: Dependents, dtype: int64"
      ]
     },
     "execution_count": 15,
     "metadata": {},
     "output_type": "execute_result"
    }
   ],
   "source": [
    "train[\"Dependents\"].value_counts()"
   ]
  },
  {
   "cell_type": "code",
   "execution_count": 16,
   "id": "22d89bea",
   "metadata": {},
   "outputs": [
    {
     "data": {
      "text/plain": [
       "0    210\n",
       "2     59\n",
       "1     58\n",
       "4     40\n",
       "Name: Dependents, dtype: int64"
      ]
     },
     "execution_count": 16,
     "metadata": {},
     "output_type": "execute_result"
    }
   ],
   "source": [
    "test[\"Dependents\"].value_counts()"
   ]
  },
  {
   "cell_type": "markdown",
   "id": "52f12d9e",
   "metadata": {},
   "source": [
    "# Define X and Y"
   ]
  },
  {
   "cell_type": "code",
   "execution_count": 17,
   "id": "5e5298b1",
   "metadata": {},
   "outputs": [],
   "source": [
    "Y = train[\"Loan_Status\"]\n",
    "X = train.drop(labels=[\"Loan_ID\",\"Loan_Status\"],axis = 1)"
   ]
  },
  {
   "cell_type": "code",
   "execution_count": 18,
   "id": "5a6a2bbd",
   "metadata": {},
   "outputs": [
    {
     "data": {
      "text/html": [
       "<div>\n",
       "<style scoped>\n",
       "    .dataframe tbody tr th:only-of-type {\n",
       "        vertical-align: middle;\n",
       "    }\n",
       "\n",
       "    .dataframe tbody tr th {\n",
       "        vertical-align: top;\n",
       "    }\n",
       "\n",
       "    .dataframe thead th {\n",
       "        text-align: right;\n",
       "    }\n",
       "</style>\n",
       "<table border=\"1\" class=\"dataframe\">\n",
       "  <thead>\n",
       "    <tr style=\"text-align: right;\">\n",
       "      <th></th>\n",
       "      <th>Gender</th>\n",
       "      <th>Married</th>\n",
       "      <th>Dependents</th>\n",
       "      <th>Education</th>\n",
       "      <th>Self_Employed</th>\n",
       "      <th>ApplicantIncome</th>\n",
       "      <th>CoapplicantIncome</th>\n",
       "      <th>LoanAmount</th>\n",
       "      <th>Loan_Amount_Term</th>\n",
       "      <th>Credit_History</th>\n",
       "      <th>Property_Area</th>\n",
       "    </tr>\n",
       "  </thead>\n",
       "  <tbody>\n",
       "    <tr>\n",
       "      <th>0</th>\n",
       "      <td>Male</td>\n",
       "      <td>No</td>\n",
       "      <td>0</td>\n",
       "      <td>Graduate</td>\n",
       "      <td>No</td>\n",
       "      <td>5849.00000</td>\n",
       "      <td>0.0</td>\n",
       "      <td>146.412162</td>\n",
       "      <td>360.0</td>\n",
       "      <td>1.0</td>\n",
       "      <td>Urban</td>\n",
       "    </tr>\n",
       "    <tr>\n",
       "      <th>1</th>\n",
       "      <td>Male</td>\n",
       "      <td>Yes</td>\n",
       "      <td>1</td>\n",
       "      <td>Graduate</td>\n",
       "      <td>No</td>\n",
       "      <td>5405.54085</td>\n",
       "      <td>1508.0</td>\n",
       "      <td>128.000000</td>\n",
       "      <td>360.0</td>\n",
       "      <td>1.0</td>\n",
       "      <td>Rural</td>\n",
       "    </tr>\n",
       "    <tr>\n",
       "      <th>2</th>\n",
       "      <td>Male</td>\n",
       "      <td>Yes</td>\n",
       "      <td>0</td>\n",
       "      <td>Graduate</td>\n",
       "      <td>Yes</td>\n",
       "      <td>3000.00000</td>\n",
       "      <td>0.0</td>\n",
       "      <td>66.000000</td>\n",
       "      <td>360.0</td>\n",
       "      <td>1.0</td>\n",
       "      <td>Urban</td>\n",
       "    </tr>\n",
       "    <tr>\n",
       "      <th>3</th>\n",
       "      <td>Male</td>\n",
       "      <td>Yes</td>\n",
       "      <td>0</td>\n",
       "      <td>Not Graduate</td>\n",
       "      <td>No</td>\n",
       "      <td>2583.00000</td>\n",
       "      <td>2358.0</td>\n",
       "      <td>120.000000</td>\n",
       "      <td>360.0</td>\n",
       "      <td>1.0</td>\n",
       "      <td>Urban</td>\n",
       "    </tr>\n",
       "    <tr>\n",
       "      <th>4</th>\n",
       "      <td>Male</td>\n",
       "      <td>No</td>\n",
       "      <td>0</td>\n",
       "      <td>Graduate</td>\n",
       "      <td>No</td>\n",
       "      <td>6000.00000</td>\n",
       "      <td>0.0</td>\n",
       "      <td>141.000000</td>\n",
       "      <td>360.0</td>\n",
       "      <td>1.0</td>\n",
       "      <td>Urban</td>\n",
       "    </tr>\n",
       "    <tr>\n",
       "      <th>...</th>\n",
       "      <td>...</td>\n",
       "      <td>...</td>\n",
       "      <td>...</td>\n",
       "      <td>...</td>\n",
       "      <td>...</td>\n",
       "      <td>...</td>\n",
       "      <td>...</td>\n",
       "      <td>...</td>\n",
       "      <td>...</td>\n",
       "      <td>...</td>\n",
       "      <td>...</td>\n",
       "    </tr>\n",
       "    <tr>\n",
       "      <th>609</th>\n",
       "      <td>Female</td>\n",
       "      <td>No</td>\n",
       "      <td>0</td>\n",
       "      <td>Graduate</td>\n",
       "      <td>No</td>\n",
       "      <td>2900.00000</td>\n",
       "      <td>0.0</td>\n",
       "      <td>71.000000</td>\n",
       "      <td>360.0</td>\n",
       "      <td>1.0</td>\n",
       "      <td>Rural</td>\n",
       "    </tr>\n",
       "    <tr>\n",
       "      <th>610</th>\n",
       "      <td>Male</td>\n",
       "      <td>Yes</td>\n",
       "      <td>4</td>\n",
       "      <td>Graduate</td>\n",
       "      <td>No</td>\n",
       "      <td>4106.00000</td>\n",
       "      <td>0.0</td>\n",
       "      <td>40.000000</td>\n",
       "      <td>180.0</td>\n",
       "      <td>1.0</td>\n",
       "      <td>Rural</td>\n",
       "    </tr>\n",
       "    <tr>\n",
       "      <th>611</th>\n",
       "      <td>Male</td>\n",
       "      <td>Yes</td>\n",
       "      <td>1</td>\n",
       "      <td>Graduate</td>\n",
       "      <td>No</td>\n",
       "      <td>8072.00000</td>\n",
       "      <td>240.0</td>\n",
       "      <td>253.000000</td>\n",
       "      <td>360.0</td>\n",
       "      <td>1.0</td>\n",
       "      <td>Urban</td>\n",
       "    </tr>\n",
       "    <tr>\n",
       "      <th>612</th>\n",
       "      <td>Male</td>\n",
       "      <td>Yes</td>\n",
       "      <td>2</td>\n",
       "      <td>Graduate</td>\n",
       "      <td>No</td>\n",
       "      <td>7583.00000</td>\n",
       "      <td>0.0</td>\n",
       "      <td>187.000000</td>\n",
       "      <td>360.0</td>\n",
       "      <td>1.0</td>\n",
       "      <td>Urban</td>\n",
       "    </tr>\n",
       "    <tr>\n",
       "      <th>613</th>\n",
       "      <td>Female</td>\n",
       "      <td>No</td>\n",
       "      <td>0</td>\n",
       "      <td>Graduate</td>\n",
       "      <td>Yes</td>\n",
       "      <td>4583.00000</td>\n",
       "      <td>0.0</td>\n",
       "      <td>133.000000</td>\n",
       "      <td>360.0</td>\n",
       "      <td>0.0</td>\n",
       "      <td>Semiurban</td>\n",
       "    </tr>\n",
       "  </tbody>\n",
       "</table>\n",
       "<p>614 rows × 11 columns</p>\n",
       "</div>"
      ],
      "text/plain": [
       "     Gender Married Dependents     Education Self_Employed  ApplicantIncome  \\\n",
       "0      Male      No          0      Graduate            No       5849.00000   \n",
       "1      Male     Yes          1      Graduate            No       5405.54085   \n",
       "2      Male     Yes          0      Graduate           Yes       3000.00000   \n",
       "3      Male     Yes          0  Not Graduate            No       2583.00000   \n",
       "4      Male      No          0      Graduate            No       6000.00000   \n",
       "..      ...     ...        ...           ...           ...              ...   \n",
       "609  Female      No          0      Graduate            No       2900.00000   \n",
       "610    Male     Yes          4      Graduate            No       4106.00000   \n",
       "611    Male     Yes          1      Graduate            No       8072.00000   \n",
       "612    Male     Yes          2      Graduate            No       7583.00000   \n",
       "613  Female      No          0      Graduate           Yes       4583.00000   \n",
       "\n",
       "     CoapplicantIncome  LoanAmount  Loan_Amount_Term  Credit_History  \\\n",
       "0                  0.0  146.412162             360.0             1.0   \n",
       "1               1508.0  128.000000             360.0             1.0   \n",
       "2                  0.0   66.000000             360.0             1.0   \n",
       "3               2358.0  120.000000             360.0             1.0   \n",
       "4                  0.0  141.000000             360.0             1.0   \n",
       "..                 ...         ...               ...             ...   \n",
       "609                0.0   71.000000             360.0             1.0   \n",
       "610                0.0   40.000000             180.0             1.0   \n",
       "611              240.0  253.000000             360.0             1.0   \n",
       "612                0.0  187.000000             360.0             1.0   \n",
       "613                0.0  133.000000             360.0             0.0   \n",
       "\n",
       "    Property_Area  \n",
       "0           Urban  \n",
       "1           Rural  \n",
       "2           Urban  \n",
       "3           Urban  \n",
       "4           Urban  \n",
       "..            ...  \n",
       "609         Rural  \n",
       "610         Rural  \n",
       "611         Urban  \n",
       "612         Urban  \n",
       "613     Semiurban  \n",
       "\n",
       "[614 rows x 11 columns]"
      ]
     },
     "execution_count": 18,
     "metadata": {},
     "output_type": "execute_result"
    }
   ],
   "source": [
    "X"
   ]
  },
  {
   "cell_type": "code",
   "execution_count": 19,
   "id": "fa5f132f",
   "metadata": {},
   "outputs": [
    {
     "data": {
      "text/plain": [
       "0      Y\n",
       "1      N\n",
       "2      Y\n",
       "3      Y\n",
       "4      Y\n",
       "      ..\n",
       "609    Y\n",
       "610    Y\n",
       "611    Y\n",
       "612    Y\n",
       "613    N\n",
       "Name: Loan_Status, Length: 614, dtype: object"
      ]
     },
     "execution_count": 19,
     "metadata": {},
     "output_type": "execute_result"
    }
   ],
   "source": [
    "Y"
   ]
  },
  {
   "cell_type": "code",
   "execution_count": 20,
   "id": "a47bd56b",
   "metadata": {},
   "outputs": [],
   "source": [
    "cat,con = catconsep(X)"
   ]
  },
  {
   "cell_type": "code",
   "execution_count": 21,
   "id": "b68a95bb",
   "metadata": {},
   "outputs": [],
   "source": [
    "Xnew = preprocessing(X)"
   ]
  },
  {
   "cell_type": "markdown",
   "id": "9f0a7883",
   "metadata": {},
   "source": [
    "# Train Test Split"
   ]
  },
  {
   "cell_type": "code",
   "execution_count": 22,
   "id": "7720d688",
   "metadata": {},
   "outputs": [],
   "source": [
    "from sklearn.model_selection import train_test_split\n",
    "xtrain,xtest,ytrain,ytest =train_test_split(Xnew,Y,test_size=0.2,random_state =21)"
   ]
  },
  {
   "cell_type": "markdown",
   "id": "3dfa8b8d",
   "metadata": {},
   "source": [
    "# First model using Decision Tree"
   ]
  },
  {
   "cell_type": "raw",
   "id": "8282aaf8",
   "metadata": {},
   "source": [
    "# DTC model with max_depth  "
   ]
  },
  {
   "cell_type": "code",
   "execution_count": 23,
   "id": "81cde97d",
   "metadata": {},
   "outputs": [
    {
     "data": {
      "text/plain": [
       "[<matplotlib.lines.Line2D at 0x1a28fee39a0>]"
      ]
     },
     "execution_count": 23,
     "metadata": {},
     "output_type": "execute_result"
    },
    {
     "data": {
      "image/png": "[encoded data removed]",
      "text/plain": [
       "<Figure size 432x288 with 1 Axes>"
      ]
     },
     "metadata": {
      "needs_background": "light"
     },
     "output_type": "display_data"
    }
   ],
   "source": [
    "tr = []\n",
    "ts = []\n",
    "from sklearn.tree import DecisionTreeClassifier\n",
    "\n",
    "\n",
    "for i in range(2,20,1): \n",
    "    dtc = DecisionTreeClassifier(criterion=\"entropy\", random_state = 21, max_depth = i)\n",
    "    model1 = dtc.fit(xtrain,ytrain)\n",
    "    pred_tr1 = model1.predict(xtrain)\n",
    "    pred_ts1 = model1.predict(xtest)\n",
    "\n",
    "    from sklearn.metrics import accuracy_score\n",
    "    tr1_acc = accuracy_score(ytrain,pred_tr1)\n",
    "    ts1_acc = accuracy_score(ytest,pred_ts1)\n",
    "    tr.append(tr1_acc)\n",
    "    ts.append(ts1_acc)\n",
    "\n",
    "\n",
    "import matplotlib.pyplot as plt \n",
    "plt.plot(range(2,20,1),tr,c=\"blue\")\n",
    "plt.plot(range(2,20,1),ts,c=\"red\")"
   ]
  },
  {
   "cell_type": "raw",
   "id": "51b51573",
   "metadata": {},
   "source": [
    "#DTC for min_samples_leaf"
   ]
  },
  {
   "cell_type": "code",
   "execution_count": 24,
   "id": "527a89bd",
   "metadata": {},
   "outputs": [
    {
     "data": {
      "text/plain": [
       "[<matplotlib.lines.Line2D at 0x1a28ffc8850>]"
      ]
     },
     "execution_count": 24,
     "metadata": {},
     "output_type": "execute_result"
    },
    {
     "data": {
      "image/png": "[encoded data removed]",
      "text/plain": [
       "<Figure size 432x288 with 1 Axes>"
      ]
     },
     "metadata": {
      "needs_background": "light"
     },
     "output_type": "display_data"
    }
   ],
   "source": [
    "tr = []\n",
    "ts = []\n",
    "from sklearn.tree import DecisionTreeClassifier\n",
    "\n",
    "\n",
    "for i in range(2,40,1): \n",
    "    dtc = DecisionTreeClassifier(criterion=\"entropy\", random_state = 21, min_samples_leaf = i)\n",
    "    model1 = dtc.fit(xtrain,ytrain)\n",
    "    pred_tr1 = model1.predict(xtrain)\n",
    "    pred_ts1 = model1.predict(xtest)\n",
    "\n",
    "    from sklearn.metrics import accuracy_score\n",
    "    tr1_acc = accuracy_score(ytrain,pred_tr1)\n",
    "    ts1_acc = accuracy_score(ytest,pred_ts1)\n",
    "    tr.append(tr1_acc)\n",
    "    ts.append(ts1_acc)\n",
    "\n",
    "\n",
    "import matplotlib.pyplot as plt \n",
    "plt.plot(range(2,40,1),tr,c=\"blue\")\n",
    "plt.plot(range(2,40,1),ts,c=\"red\")"
   ]
  },
  {
   "cell_type": "raw",
   "id": "bff2025a",
   "metadata": {},
   "source": [
    "#DTC for min_samples_split"
   ]
  },
  {
   "cell_type": "code",
   "execution_count": 25,
   "id": "b2310a58",
   "metadata": {},
   "outputs": [
    {
     "data": {
      "text/plain": [
       "[<matplotlib.lines.Line2D at 0x1a2900358e0>]"
      ]
     },
     "execution_count": 25,
     "metadata": {},
     "output_type": "execute_result"
    },
    {
     "data": {
      "image/png": "[encoded data removed]",
      "text/plain": [
       "<Figure size 432x288 with 1 Axes>"
      ]
     },
     "metadata": {
      "needs_background": "light"
     },
     "output_type": "display_data"
    }
   ],
   "source": [
    "tr = []\n",
    "ts = []\n",
    "from sklearn.tree import DecisionTreeClassifier\n",
    "\n",
    "\n",
    "for i in range(2,80,1): \n",
    "    dtc = DecisionTreeClassifier(criterion=\"entropy\", random_state = 21, min_samples_split = i)\n",
    "    model1 = dtc.fit(xtrain,ytrain)\n",
    "    pred_tr1 = model1.predict(xtrain)\n",
    "    pred_ts1 = model1.predict(xtest)\n",
    "\n",
    "    from sklearn.metrics import accuracy_score\n",
    "    tr1_acc = accuracy_score(ytrain,pred_tr1)\n",
    "    ts1_acc = accuracy_score(ytest,pred_ts1)\n",
    "    tr.append(tr1_acc)\n",
    "    ts.append(ts1_acc)\n",
    "\n",
    "\n",
    "import matplotlib.pyplot as plt \n",
    "plt.plot(range(2,80,1),tr,c=\"blue\")\n",
    "plt.plot(range(2,80,1),ts,c=\"red\")"
   ]
  },
  {
   "cell_type": "raw",
   "id": "46ef6310",
   "metadata": {},
   "source": [
    "# DTC using max_depth as final model for DTC"
   ]
  },
  {
   "cell_type": "code",
   "execution_count": 26,
   "id": "6993e2fc",
   "metadata": {},
   "outputs": [],
   "source": [
    "dtc = DecisionTreeClassifier(criterion=\"entropy\", random_state = 21, max_depth = 4)\n",
    "model1 = dtc.fit(xtrain,ytrain)\n",
    "pred_tr1 = model1.predict(xtrain)\n",
    "pred_ts1 = model1.predict(xtest)\n",
    "\n",
    "from sklearn.metrics import accuracy_score\n",
    "tr1_acc = accuracy_score(ytrain,pred_tr1)\n",
    "ts1_acc = accuracy_score(ytest,pred_ts1)               "
   ]
  },
  {
   "cell_type": "code",
   "execution_count": 27,
   "id": "d6f4c8b1",
   "metadata": {},
   "outputs": [
    {
     "data": {
      "text/plain": [
       "0.8228105906313645"
      ]
     },
     "execution_count": 27,
     "metadata": {},
     "output_type": "execute_result"
    }
   ],
   "source": [
    "tr1_acc"
   ]
  },
  {
   "cell_type": "code",
   "execution_count": 28,
   "id": "c6bb7021",
   "metadata": {},
   "outputs": [
    {
     "data": {
      "text/plain": [
       "0.8211382113821138"
      ]
     },
     "execution_count": 28,
     "metadata": {},
     "output_type": "execute_result"
    }
   ],
   "source": [
    "ts1_acc"
   ]
  },
  {
   "cell_type": "code",
   "execution_count": 29,
   "id": "4cb6b3d1",
   "metadata": {},
   "outputs": [
    {
     "name": "stdout",
     "output_type": "stream",
     "text": [
      "[[ 69  85]\n",
      " [  2 335]]\n",
      "[[19 19]\n",
      " [ 3 82]]\n"
     ]
    }
   ],
   "source": [
    "from sklearn.metrics import confusion_matrix\n",
    "print(confusion_matrix(ytrain,pred_tr1))\n",
    "print(confusion_matrix(ytest,pred_ts1))"
   ]
  },
  {
   "cell_type": "markdown",
   "id": "bbf98ce7",
   "metadata": {},
   "source": [
    "# Second model using RandomForest"
   ]
  },
  {
   "cell_type": "raw",
   "id": "021fe509",
   "metadata": {},
   "source": [
    "#RFC with max depth"
   ]
  },
  {
   "cell_type": "code",
   "execution_count": 30,
   "id": "76b1bd71",
   "metadata": {},
   "outputs": [
    {
     "data": {
      "text/plain": [
       "[<matplotlib.lines.Line2D at 0x1a290128670>]"
      ]
     },
     "execution_count": 30,
     "metadata": {},
     "output_type": "execute_result"
    },
    {
     "data": {
      "image/png": "[encoded data removed]",
      "text/plain": [
       "<Figure size 432x288 with 1 Axes>"
      ]
     },
     "metadata": {
      "needs_background": "light"
     },
     "output_type": "display_data"
    }
   ],
   "source": [
    "tr1 = []\n",
    "ts1 = []\n",
    "\n",
    "for  i in range(2,20,1):\n",
    "    from sklearn.ensemble import RandomForestClassifier\n",
    "    rfc = RandomForestClassifier(n_estimators=20,criterion=\"entropy\",random_state=21,max_depth=i)\n",
    "    model2 = rfc.fit(xtrain,ytrain)\n",
    "    pred_tr2 = model2.predict(xtrain)\n",
    "    pred_ts2 = model2.predict(xtest)\n",
    "    tr2_acc = accuracy_score(ytrain,pred_tr2)\n",
    "    ts2_acc = accuracy_score(ytest,pred_ts2)\n",
    "    tr1.append(tr2_acc)\n",
    "    ts1.append(ts2_acc)\n",
    "\n",
    "plt.plot(range(2,20,1),tr1,c=\"blue\")\n",
    "plt.plot(range(2,20,1),ts1,c=\"red\")"
   ]
  },
  {
   "cell_type": "raw",
   "id": "733472cb",
   "metadata": {},
   "source": [
    "#RFC with min_samples_leaf"
   ]
  },
  {
   "cell_type": "code",
   "execution_count": 31,
   "id": "f47c02f5",
   "metadata": {},
   "outputs": [
    {
     "data": {
      "text/plain": [
       "[<matplotlib.lines.Line2D at 0x1a2901891f0>]"
      ]
     },
     "execution_count": 31,
     "metadata": {},
     "output_type": "execute_result"
    },
    {
     "data": {
      "image/png": "[encoded data removed]",
      "text/plain": [
       "<Figure size 432x288 with 1 Axes>"
      ]
     },
     "metadata": {
      "needs_background": "light"
     },
     "output_type": "display_data"
    }
   ],
   "source": [
    "tr1 = []\n",
    "ts1 = []\n",
    "\n",
    "for  i in range(2,20,1):\n",
    "    from sklearn.ensemble import RandomForestClassifier\n",
    "    rfc = RandomForestClassifier(n_estimators=20, criterion=\"entropy\",random_state=21,min_samples_leaf=i)\n",
    "    model2 = rfc.fit(xtrain,ytrain)\n",
    "    pred_tr2 = model2.predict(xtrain)\n",
    "    pred_ts2 = model2.predict(xtest)\n",
    "    tr2_acc = accuracy_score(ytrain,pred_tr2)\n",
    "    ts2_acc = accuracy_score(ytest,pred_ts2)\n",
    "    tr1.append(tr2_acc)\n",
    "    ts1.append(ts2_acc)\n",
    "\n",
    "plt.plot(range(2,20,1),tr1,c=\"blue\")\n",
    "plt.plot(range(2,20,1),ts1,c=\"red\")"
   ]
  },
  {
   "cell_type": "raw",
   "id": "ef7f35dc",
   "metadata": {},
   "source": [
    "#RFC with min_samples_split"
   ]
  },
  {
   "cell_type": "code",
   "execution_count": 32,
   "id": "4ea48dfe",
   "metadata": {},
   "outputs": [
    {
     "data": {
      "text/plain": [
       "[<matplotlib.lines.Line2D at 0x1a2901f59d0>]"
      ]
     },
     "execution_count": 32,
     "metadata": {},
     "output_type": "execute_result"
    },
    {
     "data": {
      "image/png": "[encoded data removed]",
      "text/plain": [
       "<Figure size 432x288 with 1 Axes>"
      ]
     },
     "metadata": {
      "needs_background": "light"
     },
     "output_type": "display_data"
    }
   ],
   "source": [
    "tr1 = []\n",
    "ts1 = []\n",
    "\n",
    "for  i in range(2,70,1):\n",
    "    from sklearn.ensemble import RandomForestClassifier\n",
    "    rfc = RandomForestClassifier(n_estimators=20, criterion=\"entropy\",random_state=21,min_samples_split=i)\n",
    "    model2 = rfc.fit(xtrain,ytrain)\n",
    "    pred_tr2 = model2.predict(xtrain)\n",
    "    pred_ts2 = model2.predict(xtest)\n",
    "    tr2_acc = accuracy_score(ytrain,pred_tr2)\n",
    "    ts2_acc = accuracy_score(ytest,pred_ts2)\n",
    "    tr1.append(tr2_acc)\n",
    "    ts1.append(ts2_acc)\n",
    "\n",
    "plt.plot(range(2,70,1),tr1,c=\"blue\")\n",
    "plt.plot(range(2,70,1),ts1,c=\"red\")"
   ]
  },
  {
   "cell_type": "raw",
   "id": "9ee07190",
   "metadata": {},
   "source": [
    "#RFC final model with max_depth"
   ]
  },
  {
   "cell_type": "code",
   "execution_count": 33,
   "id": "d64141a0",
   "metadata": {},
   "outputs": [],
   "source": [
    "rfc = RandomForestClassifier(n_estimators=20,criterion=\"entropy\",random_state=21,max_depth=5)\n",
    "model2 = rfc.fit(xtrain,ytrain)\n",
    "pred_tr2 = model2.predict(xtrain)\n",
    "pred_ts2 = model2.predict(xtest)\n",
    "tr2_acc = accuracy_score(ytrain,pred_tr2)\n",
    "ts2_acc = accuracy_score(ytest,pred_ts2)"
   ]
  },
  {
   "cell_type": "code",
   "execution_count": 34,
   "id": "0ebaa015",
   "metadata": {},
   "outputs": [
    {
     "name": "stdout",
     "output_type": "stream",
     "text": [
      "0.8207739307535642\n"
     ]
    }
   ],
   "source": [
    "print(tr2_acc)"
   ]
  },
  {
   "cell_type": "code",
   "execution_count": 35,
   "id": "b48da471",
   "metadata": {},
   "outputs": [
    {
     "name": "stdout",
     "output_type": "stream",
     "text": [
      "0.8211382113821138\n"
     ]
    }
   ],
   "source": [
    "print(ts2_acc)"
   ]
  },
  {
   "cell_type": "code",
   "execution_count": 36,
   "id": "efe4717d",
   "metadata": {},
   "outputs": [
    {
     "name": "stdout",
     "output_type": "stream",
     "text": [
      "[[ 68  86]\n",
      " [  2 335]]\n",
      "[[19 19]\n",
      " [ 3 82]]\n"
     ]
    }
   ],
   "source": [
    "print(confusion_matrix(ytrain,pred_tr2))\n",
    "print(confusion_matrix(ytest,pred_ts2))"
   ]
  },
  {
   "cell_type": "markdown",
   "id": "f91fa95a",
   "metadata": {},
   "source": [
    "# Thrid model using Logistic Reression"
   ]
  },
  {
   "cell_type": "code",
   "execution_count": 37,
   "id": "81449cc0",
   "metadata": {},
   "outputs": [],
   "source": [
    "imp_cols = []\n",
    "pvals = []\n",
    "\n",
    "for i in X.columns:\n",
    "    if (X[i].dtypes == \"object\"):\n",
    "        pval = chisq(train,\"Loan_Status\",i)\n",
    "        pvals.append(pval)\n",
    "    else:\n",
    "        pval = ANOVA(train,\"Loan_Status\",i)\n",
    "        pvals.append(pval)"
   ]
  },
  {
   "cell_type": "code",
   "execution_count": 38,
   "id": "7622c471",
   "metadata": {},
   "outputs": [],
   "source": [
    "W = pd.DataFrame([X.columns,pvals]).T"
   ]
  },
  {
   "cell_type": "code",
   "execution_count": 39,
   "id": "abc21bf1",
   "metadata": {},
   "outputs": [],
   "source": [
    "W.columns=(\"col\",\"pval\")"
   ]
  },
  {
   "cell_type": "code",
   "execution_count": 40,
   "id": "345518fc",
   "metadata": {},
   "outputs": [
    {
     "data": {
      "text/html": [
       "<div>\n",
       "<style scoped>\n",
       "    .dataframe tbody tr th:only-of-type {\n",
       "        vertical-align: middle;\n",
       "    }\n",
       "\n",
       "    .dataframe tbody tr th {\n",
       "        vertical-align: top;\n",
       "    }\n",
       "\n",
       "    .dataframe thead th {\n",
       "        text-align: right;\n",
       "    }\n",
       "</style>\n",
       "<table border=\"1\" class=\"dataframe\">\n",
       "  <thead>\n",
       "    <tr style=\"text-align: right;\">\n",
       "      <th></th>\n",
       "      <th>col</th>\n",
       "      <th>pval</th>\n",
       "    </tr>\n",
       "  </thead>\n",
       "  <tbody>\n",
       "    <tr>\n",
       "      <th>0</th>\n",
       "      <td>Gender</td>\n",
       "      <td>0.73915</td>\n",
       "    </tr>\n",
       "    <tr>\n",
       "      <th>1</th>\n",
       "      <td>Married</td>\n",
       "      <td>0.02961</td>\n",
       "    </tr>\n",
       "    <tr>\n",
       "      <th>2</th>\n",
       "      <td>Dependents</td>\n",
       "      <td>0.36887</td>\n",
       "    </tr>\n",
       "    <tr>\n",
       "      <th>3</th>\n",
       "      <td>Education</td>\n",
       "      <td>0.0431</td>\n",
       "    </tr>\n",
       "    <tr>\n",
       "      <th>4</th>\n",
       "      <td>Self_Employed</td>\n",
       "      <td>0.97107</td>\n",
       "    </tr>\n",
       "    <tr>\n",
       "      <th>5</th>\n",
       "      <td>ApplicantIncome</td>\n",
       "      <td>0.90252</td>\n",
       "    </tr>\n",
       "    <tr>\n",
       "      <th>6</th>\n",
       "      <td>CoapplicantIncome</td>\n",
       "      <td>0.14239</td>\n",
       "    </tr>\n",
       "    <tr>\n",
       "      <th>7</th>\n",
       "      <td>LoanAmount</td>\n",
       "      <td>0.36769</td>\n",
       "    </tr>\n",
       "    <tr>\n",
       "      <th>8</th>\n",
       "      <td>Loan_Amount_Term</td>\n",
       "      <td>0.60396</td>\n",
       "    </tr>\n",
       "    <tr>\n",
       "      <th>9</th>\n",
       "      <td>Credit_History</td>\n",
       "      <td>0.0</td>\n",
       "    </tr>\n",
       "    <tr>\n",
       "      <th>10</th>\n",
       "      <td>Property_Area</td>\n",
       "      <td>0.00214</td>\n",
       "    </tr>\n",
       "  </tbody>\n",
       "</table>\n",
       "</div>"
      ],
      "text/plain": [
       "                  col     pval\n",
       "0              Gender  0.73915\n",
       "1             Married  0.02961\n",
       "2          Dependents  0.36887\n",
       "3           Education   0.0431\n",
       "4       Self_Employed  0.97107\n",
       "5     ApplicantIncome  0.90252\n",
       "6   CoapplicantIncome  0.14239\n",
       "7          LoanAmount  0.36769\n",
       "8    Loan_Amount_Term  0.60396\n",
       "9      Credit_History      0.0\n",
       "10      Property_Area  0.00214"
      ]
     },
     "execution_count": 40,
     "metadata": {},
     "output_type": "execute_result"
    }
   ],
   "source": [
    "W"
   ]
  },
  {
   "cell_type": "code",
   "execution_count": 41,
   "id": "d1ee97ec",
   "metadata": {},
   "outputs": [
    {
     "data": {
      "text/html": [
       "<div>\n",
       "<style scoped>\n",
       "    .dataframe tbody tr th:only-of-type {\n",
       "        vertical-align: middle;\n",
       "    }\n",
       "\n",
       "    .dataframe tbody tr th {\n",
       "        vertical-align: top;\n",
       "    }\n",
       "\n",
       "    .dataframe thead th {\n",
       "        text-align: right;\n",
       "    }\n",
       "</style>\n",
       "<table border=\"1\" class=\"dataframe\">\n",
       "  <thead>\n",
       "    <tr style=\"text-align: right;\">\n",
       "      <th></th>\n",
       "      <th>col</th>\n",
       "      <th>pval</th>\n",
       "    </tr>\n",
       "  </thead>\n",
       "  <tbody>\n",
       "    <tr>\n",
       "      <th>1</th>\n",
       "      <td>Married</td>\n",
       "      <td>0.02961</td>\n",
       "    </tr>\n",
       "    <tr>\n",
       "      <th>3</th>\n",
       "      <td>Education</td>\n",
       "      <td>0.0431</td>\n",
       "    </tr>\n",
       "    <tr>\n",
       "      <th>9</th>\n",
       "      <td>Credit_History</td>\n",
       "      <td>0.0</td>\n",
       "    </tr>\n",
       "    <tr>\n",
       "      <th>10</th>\n",
       "      <td>Property_Area</td>\n",
       "      <td>0.00214</td>\n",
       "    </tr>\n",
       "  </tbody>\n",
       "</table>\n",
       "</div>"
      ],
      "text/plain": [
       "               col     pval\n",
       "1          Married  0.02961\n",
       "3        Education   0.0431\n",
       "9   Credit_History      0.0\n",
       "10   Property_Area  0.00214"
      ]
     },
     "execution_count": 41,
     "metadata": {},
     "output_type": "execute_result"
    }
   ],
   "source": [
    "W[W.pval<0.05]"
   ]
  },
  {
   "cell_type": "code",
   "execution_count": 42,
   "id": "49cc0e25",
   "metadata": {},
   "outputs": [],
   "source": [
    "X1 = X"
   ]
  },
  {
   "cell_type": "code",
   "execution_count": 43,
   "id": "f71db9e7",
   "metadata": {},
   "outputs": [],
   "source": [
    "X1 =X1.drop(labels=[\"Gender\",\"Dependents\",\"Self_Employed\",\"ApplicantIncome\",\"CoapplicantIncome\",\"LoanAmount\",\"Loan_Amount_Term\"],axis=1)"
   ]
  },
  {
   "cell_type": "code",
   "execution_count": 44,
   "id": "3ef4e0c6",
   "metadata": {},
   "outputs": [
    {
     "data": {
      "text/html": [
       "<div>\n",
       "<style scoped>\n",
       "    .dataframe tbody tr th:only-of-type {\n",
       "        vertical-align: middle;\n",
       "    }\n",
       "\n",
       "    .dataframe tbody tr th {\n",
       "        vertical-align: top;\n",
       "    }\n",
       "\n",
       "    .dataframe thead th {\n",
       "        text-align: right;\n",
       "    }\n",
       "</style>\n",
       "<table border=\"1\" class=\"dataframe\">\n",
       "  <thead>\n",
       "    <tr style=\"text-align: right;\">\n",
       "      <th></th>\n",
       "      <th>Married</th>\n",
       "      <th>Education</th>\n",
       "      <th>Credit_History</th>\n",
       "      <th>Property_Area</th>\n",
       "    </tr>\n",
       "  </thead>\n",
       "  <tbody>\n",
       "    <tr>\n",
       "      <th>0</th>\n",
       "      <td>No</td>\n",
       "      <td>Graduate</td>\n",
       "      <td>1.0</td>\n",
       "      <td>Urban</td>\n",
       "    </tr>\n",
       "    <tr>\n",
       "      <th>1</th>\n",
       "      <td>Yes</td>\n",
       "      <td>Graduate</td>\n",
       "      <td>1.0</td>\n",
       "      <td>Rural</td>\n",
       "    </tr>\n",
       "    <tr>\n",
       "      <th>2</th>\n",
       "      <td>Yes</td>\n",
       "      <td>Graduate</td>\n",
       "      <td>1.0</td>\n",
       "      <td>Urban</td>\n",
       "    </tr>\n",
       "    <tr>\n",
       "      <th>3</th>\n",
       "      <td>Yes</td>\n",
       "      <td>Not Graduate</td>\n",
       "      <td>1.0</td>\n",
       "      <td>Urban</td>\n",
       "    </tr>\n",
       "    <tr>\n",
       "      <th>4</th>\n",
       "      <td>No</td>\n",
       "      <td>Graduate</td>\n",
       "      <td>1.0</td>\n",
       "      <td>Urban</td>\n",
       "    </tr>\n",
       "    <tr>\n",
       "      <th>...</th>\n",
       "      <td>...</td>\n",
       "      <td>...</td>\n",
       "      <td>...</td>\n",
       "      <td>...</td>\n",
       "    </tr>\n",
       "    <tr>\n",
       "      <th>609</th>\n",
       "      <td>No</td>\n",
       "      <td>Graduate</td>\n",
       "      <td>1.0</td>\n",
       "      <td>Rural</td>\n",
       "    </tr>\n",
       "    <tr>\n",
       "      <th>610</th>\n",
       "      <td>Yes</td>\n",
       "      <td>Graduate</td>\n",
       "      <td>1.0</td>\n",
       "      <td>Rural</td>\n",
       "    </tr>\n",
       "    <tr>\n",
       "      <th>611</th>\n",
       "      <td>Yes</td>\n",
       "      <td>Graduate</td>\n",
       "      <td>1.0</td>\n",
       "      <td>Urban</td>\n",
       "    </tr>\n",
       "    <tr>\n",
       "      <th>612</th>\n",
       "      <td>Yes</td>\n",
       "      <td>Graduate</td>\n",
       "      <td>1.0</td>\n",
       "      <td>Urban</td>\n",
       "    </tr>\n",
       "    <tr>\n",
       "      <th>613</th>\n",
       "      <td>No</td>\n",
       "      <td>Graduate</td>\n",
       "      <td>0.0</td>\n",
       "      <td>Semiurban</td>\n",
       "    </tr>\n",
       "  </tbody>\n",
       "</table>\n",
       "<p>614 rows × 4 columns</p>\n",
       "</div>"
      ],
      "text/plain": [
       "    Married     Education  Credit_History Property_Area\n",
       "0        No      Graduate             1.0         Urban\n",
       "1       Yes      Graduate             1.0         Rural\n",
       "2       Yes      Graduate             1.0         Urban\n",
       "3       Yes  Not Graduate             1.0         Urban\n",
       "4        No      Graduate             1.0         Urban\n",
       "..      ...           ...             ...           ...\n",
       "609      No      Graduate             1.0         Rural\n",
       "610     Yes      Graduate             1.0         Rural\n",
       "611     Yes      Graduate             1.0         Urban\n",
       "612     Yes      Graduate             1.0         Urban\n",
       "613      No      Graduate             0.0     Semiurban\n",
       "\n",
       "[614 rows x 4 columns]"
      ]
     },
     "execution_count": 44,
     "metadata": {},
     "output_type": "execute_result"
    }
   ],
   "source": [
    "X1"
   ]
  },
  {
   "cell_type": "code",
   "execution_count": 45,
   "id": "8806c376",
   "metadata": {},
   "outputs": [],
   "source": [
    "X1new =preprocessing(X1)"
   ]
  },
  {
   "cell_type": "code",
   "execution_count": 46,
   "id": "4f2b1987",
   "metadata": {},
   "outputs": [],
   "source": [
    "xtrain,xtest,ytrain,ytest =train_test_split(X1new,Y,random_state=21,test_size=0.2)"
   ]
  },
  {
   "cell_type": "code",
   "execution_count": 47,
   "id": "54629676",
   "metadata": {},
   "outputs": [],
   "source": [
    "from sklearn.linear_model import LogisticRegression\n",
    "lr = LogisticRegression()\n",
    "model3 =lr.fit(xtrain,ytrain)\n",
    "pred_tr3 = model3.predict(xtrain)\n",
    "pred_ts3 = model3.predict(xtest)"
   ]
  },
  {
   "cell_type": "code",
   "execution_count": 48,
   "id": "34486fd9",
   "metadata": {},
   "outputs": [
    {
     "name": "stdout",
     "output_type": "stream",
     "text": [
      "0.8065\n",
      "0.813\n"
     ]
    }
   ],
   "source": [
    "print(round(accuracy_score(ytrain,pred_tr3),4))\n",
    "print(round(accuracy_score(ytest,pred_ts3),4))"
   ]
  },
  {
   "cell_type": "code",
   "execution_count": 49,
   "id": "9222fa3f",
   "metadata": {},
   "outputs": [
    {
     "name": "stdout",
     "output_type": "stream",
     "text": [
      "[[ 63  91]\n",
      " [  4 333]]\n",
      "[[19 19]\n",
      " [ 4 81]]\n"
     ]
    }
   ],
   "source": [
    "print(confusion_matrix(ytrain,pred_tr3))\n",
    "print(confusion_matrix(ytest,pred_ts3))"
   ]
  },
  {
   "cell_type": "code",
   "execution_count": 50,
   "id": "401d5d37",
   "metadata": {},
   "outputs": [
    {
     "data": {
      "text/plain": [
       "array(['N', 'Y', 'Y', 'Y', 'N', 'Y', 'Y', 'Y', 'N', 'N', 'Y', 'N', 'Y',\n",
       "       'Y', 'N', 'Y', 'Y', 'Y', 'N', 'Y', 'N', 'Y', 'Y', 'Y', 'N', 'N',\n",
       "       'Y', 'Y', 'Y', 'Y', 'Y', 'Y', 'Y', 'Y', 'Y', 'Y', 'Y', 'Y', 'Y',\n",
       "       'N', 'Y', 'Y', 'Y', 'Y', 'Y', 'Y', 'N', 'Y', 'Y', 'Y', 'N', 'Y',\n",
       "       'N', 'Y', 'Y', 'Y', 'Y', 'Y', 'Y', 'Y', 'Y', 'Y', 'Y', 'Y', 'Y',\n",
       "       'Y', 'N', 'Y', 'Y', 'Y', 'Y', 'Y', 'Y', 'Y', 'Y', 'Y', 'Y', 'Y',\n",
       "       'Y', 'Y', 'Y', 'Y', 'Y', 'Y', 'Y', 'N', 'Y', 'N', 'Y', 'Y', 'Y',\n",
       "       'Y', 'Y', 'Y', 'Y', 'Y', 'Y', 'Y', 'Y', 'Y', 'N', 'Y', 'Y', 'N',\n",
       "       'N', 'Y', 'Y', 'Y', 'Y', 'Y', 'Y', 'Y', 'Y', 'N', 'Y', 'N', 'N',\n",
       "       'Y', 'Y', 'Y', 'Y', 'Y', 'Y'], dtype=object)"
      ]
     },
     "execution_count": 50,
     "metadata": {},
     "output_type": "execute_result"
    }
   ],
   "source": [
    "pred_ts3"
   ]
  },
  {
   "cell_type": "markdown",
   "id": "693066fe",
   "metadata": {},
   "source": [
    "# Fourth model using Naive Bayes"
   ]
  },
  {
   "cell_type": "code",
   "execution_count": 51,
   "id": "845562b4",
   "metadata": {},
   "outputs": [
    {
     "name": "stdout",
     "output_type": "stream",
     "text": [
      "Training Accuracy :  0.8045\n",
      "Testing Accuracy :  0.7805\n"
     ]
    }
   ],
   "source": [
    "from sklearn.naive_bayes import GaussianNB\n",
    "nb = GaussianNB()\n",
    "model4 = nb.fit(xtrain,ytrain)\n",
    "pred_tr4 = model4.predict(xtrain)\n",
    "pred_ts4 = model4.predict(xtest)\n",
    "\n",
    "tr4_acc = accuracy_score(ytrain,pred_tr4)\n",
    "ts4_acc = accuracy_score(ytest,pred_ts4)\n",
    "\n",
    "print(\"Training Accuracy : \", round(tr4_acc,4))\n",
    "print(\"Testing Accuracy : \", round(ts4_acc,4))"
   ]
  },
  {
   "cell_type": "raw",
   "id": "78a47fee",
   "metadata": {},
   "source": [
    "# For all the model tested the best model we got is from DTC with max_depth\n",
    "# Selecting DTC with max_depth as final model for prediction "
   ]
  },
  {
   "cell_type": "markdown",
   "id": "8066a3a5",
   "metadata": {},
   "source": [
    "# Preparing Test data"
   ]
  },
  {
   "cell_type": "code",
   "execution_count": 52,
   "id": "ff985d5a",
   "metadata": {},
   "outputs": [],
   "source": [
    "Xtest = test.drop(labels=\"Loan_ID\", axis = 1)\n",
    "cat_test,con_test=catconsep(Xtest)\n",
    "Xtest_new = preprocessing(Xtest)"
   ]
  },
  {
   "cell_type": "code",
   "execution_count": 53,
   "id": "cde627da",
   "metadata": {},
   "outputs": [
    {
     "data": {
      "text/html": [
       "<div>\n",
       "<style scoped>\n",
       "    .dataframe tbody tr th:only-of-type {\n",
       "        vertical-align: middle;\n",
       "    }\n",
       "\n",
       "    .dataframe tbody tr th {\n",
       "        vertical-align: top;\n",
       "    }\n",
       "\n",
       "    .dataframe thead th {\n",
       "        text-align: right;\n",
       "    }\n",
       "</style>\n",
       "<table border=\"1\" class=\"dataframe\">\n",
       "  <thead>\n",
       "    <tr style=\"text-align: right;\">\n",
       "      <th></th>\n",
       "      <th>ApplicantIncome</th>\n",
       "      <th>CoapplicantIncome</th>\n",
       "      <th>LoanAmount</th>\n",
       "      <th>Loan_Amount_Term</th>\n",
       "      <th>Credit_History</th>\n",
       "      <th>Gender_Female</th>\n",
       "      <th>Gender_Male</th>\n",
       "      <th>Married_No</th>\n",
       "      <th>Married_Yes</th>\n",
       "      <th>Dependents_4</th>\n",
       "      <th>Dependents_0</th>\n",
       "      <th>Dependents_1</th>\n",
       "      <th>Dependents_2</th>\n",
       "      <th>Education_Graduate</th>\n",
       "      <th>Education_Not Graduate</th>\n",
       "      <th>Self_Employed_No</th>\n",
       "      <th>Self_Employed_Yes</th>\n",
       "      <th>Property_Area_Rural</th>\n",
       "      <th>Property_Area_Semiurban</th>\n",
       "      <th>Property_Area_Urban</th>\n",
       "    </tr>\n",
       "  </thead>\n",
       "  <tbody>\n",
       "    <tr>\n",
       "      <th>0</th>\n",
       "      <td>0.186461</td>\n",
       "      <td>-0.673335</td>\n",
       "      <td>-0.429368</td>\n",
       "      <td>0.270603</td>\n",
       "      <td>0.47918</td>\n",
       "      <td>0</td>\n",
       "      <td>1</td>\n",
       "      <td>0</td>\n",
       "      <td>1</td>\n",
       "      <td>0</td>\n",
       "      <td>1</td>\n",
       "      <td>0</td>\n",
       "      <td>0</td>\n",
       "      <td>1</td>\n",
       "      <td>0</td>\n",
       "      <td>1</td>\n",
       "      <td>0</td>\n",
       "      <td>0</td>\n",
       "      <td>0</td>\n",
       "      <td>1</td>\n",
       "    </tr>\n",
       "    <tr>\n",
       "      <th>1</th>\n",
       "      <td>-0.352692</td>\n",
       "      <td>-0.029848</td>\n",
       "      <td>-0.166482</td>\n",
       "      <td>0.270603</td>\n",
       "      <td>0.47918</td>\n",
       "      <td>0</td>\n",
       "      <td>1</td>\n",
       "      <td>0</td>\n",
       "      <td>1</td>\n",
       "      <td>0</td>\n",
       "      <td>0</td>\n",
       "      <td>1</td>\n",
       "      <td>0</td>\n",
       "      <td>1</td>\n",
       "      <td>0</td>\n",
       "      <td>1</td>\n",
       "      <td>0</td>\n",
       "      <td>0</td>\n",
       "      <td>0</td>\n",
       "      <td>1</td>\n",
       "    </tr>\n",
       "    <tr>\n",
       "      <th>2</th>\n",
       "      <td>0.039641</td>\n",
       "      <td>0.098849</td>\n",
       "      <td>1.180807</td>\n",
       "      <td>0.270603</td>\n",
       "      <td>0.47918</td>\n",
       "      <td>0</td>\n",
       "      <td>1</td>\n",
       "      <td>0</td>\n",
       "      <td>1</td>\n",
       "      <td>0</td>\n",
       "      <td>0</td>\n",
       "      <td>0</td>\n",
       "      <td>1</td>\n",
       "      <td>1</td>\n",
       "      <td>0</td>\n",
       "      <td>1</td>\n",
       "      <td>0</td>\n",
       "      <td>0</td>\n",
       "      <td>0</td>\n",
       "      <td>1</td>\n",
       "    </tr>\n",
       "    <tr>\n",
       "      <th>3</th>\n",
       "      <td>-0.502774</td>\n",
       "      <td>0.418877</td>\n",
       "      <td>-0.593671</td>\n",
       "      <td>0.270603</td>\n",
       "      <td>0.00000</td>\n",
       "      <td>0</td>\n",
       "      <td>1</td>\n",
       "      <td>0</td>\n",
       "      <td>1</td>\n",
       "      <td>0</td>\n",
       "      <td>0</td>\n",
       "      <td>0</td>\n",
       "      <td>1</td>\n",
       "      <td>1</td>\n",
       "      <td>0</td>\n",
       "      <td>1</td>\n",
       "      <td>0</td>\n",
       "      <td>0</td>\n",
       "      <td>0</td>\n",
       "      <td>1</td>\n",
       "    </tr>\n",
       "    <tr>\n",
       "      <th>4</th>\n",
       "      <td>-0.311909</td>\n",
       "      <td>-0.673335</td>\n",
       "      <td>-0.955139</td>\n",
       "      <td>0.270603</td>\n",
       "      <td>0.47918</td>\n",
       "      <td>0</td>\n",
       "      <td>1</td>\n",
       "      <td>1</td>\n",
       "      <td>0</td>\n",
       "      <td>0</td>\n",
       "      <td>1</td>\n",
       "      <td>0</td>\n",
       "      <td>0</td>\n",
       "      <td>0</td>\n",
       "      <td>1</td>\n",
       "      <td>1</td>\n",
       "      <td>0</td>\n",
       "      <td>0</td>\n",
       "      <td>0</td>\n",
       "      <td>1</td>\n",
       "    </tr>\n",
       "    <tr>\n",
       "      <th>...</th>\n",
       "      <td>...</td>\n",
       "      <td>...</td>\n",
       "      <td>...</td>\n",
       "      <td>...</td>\n",
       "      <td>...</td>\n",
       "      <td>...</td>\n",
       "      <td>...</td>\n",
       "      <td>...</td>\n",
       "      <td>...</td>\n",
       "      <td>...</td>\n",
       "      <td>...</td>\n",
       "      <td>...</td>\n",
       "      <td>...</td>\n",
       "      <td>...</td>\n",
       "      <td>...</td>\n",
       "      <td>...</td>\n",
       "      <td>...</td>\n",
       "      <td>...</td>\n",
       "      <td>...</td>\n",
       "      <td>...</td>\n",
       "    </tr>\n",
       "    <tr>\n",
       "      <th>362</th>\n",
       "      <td>-0.162439</td>\n",
       "      <td>0.088982</td>\n",
       "      <td>-0.380077</td>\n",
       "      <td>0.270603</td>\n",
       "      <td>0.47918</td>\n",
       "      <td>0</td>\n",
       "      <td>1</td>\n",
       "      <td>0</td>\n",
       "      <td>1</td>\n",
       "      <td>1</td>\n",
       "      <td>0</td>\n",
       "      <td>0</td>\n",
       "      <td>0</td>\n",
       "      <td>0</td>\n",
       "      <td>1</td>\n",
       "      <td>0</td>\n",
       "      <td>1</td>\n",
       "      <td>0</td>\n",
       "      <td>0</td>\n",
       "      <td>1</td>\n",
       "    </tr>\n",
       "    <tr>\n",
       "      <th>363</th>\n",
       "      <td>-0.132056</td>\n",
       "      <td>-0.369180</td>\n",
       "      <td>-0.347216</td>\n",
       "      <td>0.270603</td>\n",
       "      <td>0.47918</td>\n",
       "      <td>0</td>\n",
       "      <td>1</td>\n",
       "      <td>0</td>\n",
       "      <td>1</td>\n",
       "      <td>0</td>\n",
       "      <td>1</td>\n",
       "      <td>0</td>\n",
       "      <td>0</td>\n",
       "      <td>1</td>\n",
       "      <td>0</td>\n",
       "      <td>1</td>\n",
       "      <td>0</td>\n",
       "      <td>0</td>\n",
       "      <td>0</td>\n",
       "      <td>1</td>\n",
       "    </tr>\n",
       "    <tr>\n",
       "      <th>364</th>\n",
       "      <td>-0.317211</td>\n",
       "      <td>0.181644</td>\n",
       "      <td>-0.166482</td>\n",
       "      <td>0.270603</td>\n",
       "      <td>0.00000</td>\n",
       "      <td>0</td>\n",
       "      <td>1</td>\n",
       "      <td>1</td>\n",
       "      <td>0</td>\n",
       "      <td>0</td>\n",
       "      <td>1</td>\n",
       "      <td>0</td>\n",
       "      <td>0</td>\n",
       "      <td>1</td>\n",
       "      <td>0</td>\n",
       "      <td>1</td>\n",
       "      <td>0</td>\n",
       "      <td>0</td>\n",
       "      <td>1</td>\n",
       "      <td>0</td>\n",
       "    </tr>\n",
       "    <tr>\n",
       "      <th>365</th>\n",
       "      <td>0.039641</td>\n",
       "      <td>0.353241</td>\n",
       "      <td>0.359289</td>\n",
       "      <td>0.270603</td>\n",
       "      <td>0.47918</td>\n",
       "      <td>0</td>\n",
       "      <td>1</td>\n",
       "      <td>0</td>\n",
       "      <td>1</td>\n",
       "      <td>0</td>\n",
       "      <td>1</td>\n",
       "      <td>0</td>\n",
       "      <td>0</td>\n",
       "      <td>1</td>\n",
       "      <td>0</td>\n",
       "      <td>1</td>\n",
       "      <td>0</td>\n",
       "      <td>1</td>\n",
       "      <td>0</td>\n",
       "      <td>0</td>\n",
       "    </tr>\n",
       "    <tr>\n",
       "      <th>366</th>\n",
       "      <td>0.896087</td>\n",
       "      <td>-0.673335</td>\n",
       "      <td>-0.626532</td>\n",
       "      <td>-2.518700</td>\n",
       "      <td>0.47918</td>\n",
       "      <td>0</td>\n",
       "      <td>1</td>\n",
       "      <td>1</td>\n",
       "      <td>0</td>\n",
       "      <td>0</td>\n",
       "      <td>1</td>\n",
       "      <td>0</td>\n",
       "      <td>0</td>\n",
       "      <td>1</td>\n",
       "      <td>0</td>\n",
       "      <td>0</td>\n",
       "      <td>1</td>\n",
       "      <td>1</td>\n",
       "      <td>0</td>\n",
       "      <td>0</td>\n",
       "    </tr>\n",
       "  </tbody>\n",
       "</table>\n",
       "<p>367 rows × 20 columns</p>\n",
       "</div>"
      ],
      "text/plain": [
       "     ApplicantIncome  CoapplicantIncome  LoanAmount  Loan_Amount_Term  \\\n",
       "0           0.186461          -0.673335   -0.429368          0.270603   \n",
       "1          -0.352692          -0.029848   -0.166482          0.270603   \n",
       "2           0.039641           0.098849    1.180807          0.270603   \n",
       "3          -0.502774           0.418877   -0.593671          0.270603   \n",
       "4          -0.311909          -0.673335   -0.955139          0.270603   \n",
       "..               ...                ...         ...               ...   \n",
       "362        -0.162439           0.088982   -0.380077          0.270603   \n",
       "363        -0.132056          -0.369180   -0.347216          0.270603   \n",
       "364        -0.317211           0.181644   -0.166482          0.270603   \n",
       "365         0.039641           0.353241    0.359289          0.270603   \n",
       "366         0.896087          -0.673335   -0.626532         -2.518700   \n",
       "\n",
       "     Credit_History  Gender_Female  Gender_Male  Married_No  Married_Yes  \\\n",
       "0           0.47918              0            1           0            1   \n",
       "1           0.47918              0            1           0            1   \n",
       "2           0.47918              0            1           0            1   \n",
       "3           0.00000              0            1           0            1   \n",
       "4           0.47918              0            1           1            0   \n",
       "..              ...            ...          ...         ...          ...   \n",
       "362         0.47918              0            1           0            1   \n",
       "363         0.47918              0            1           0            1   \n",
       "364         0.00000              0            1           1            0   \n",
       "365         0.47918              0            1           0            1   \n",
       "366         0.47918              0            1           1            0   \n",
       "\n",
       "     Dependents_4  Dependents_0  Dependents_1  Dependents_2  \\\n",
       "0               0             1             0             0   \n",
       "1               0             0             1             0   \n",
       "2               0             0             0             1   \n",
       "3               0             0             0             1   \n",
       "4               0             1             0             0   \n",
       "..            ...           ...           ...           ...   \n",
       "362             1             0             0             0   \n",
       "363             0             1             0             0   \n",
       "364             0             1             0             0   \n",
       "365             0             1             0             0   \n",
       "366             0             1             0             0   \n",
       "\n",
       "     Education_Graduate  Education_Not Graduate  Self_Employed_No  \\\n",
       "0                     1                       0                 1   \n",
       "1                     1                       0                 1   \n",
       "2                     1                       0                 1   \n",
       "3                     1                       0                 1   \n",
       "4                     0                       1                 1   \n",
       "..                  ...                     ...               ...   \n",
       "362                   0                       1                 0   \n",
       "363                   1                       0                 1   \n",
       "364                   1                       0                 1   \n",
       "365                   1                       0                 1   \n",
       "366                   1                       0                 0   \n",
       "\n",
       "     Self_Employed_Yes  Property_Area_Rural  Property_Area_Semiurban  \\\n",
       "0                    0                    0                        0   \n",
       "1                    0                    0                        0   \n",
       "2                    0                    0                        0   \n",
       "3                    0                    0                        0   \n",
       "4                    0                    0                        0   \n",
       "..                 ...                  ...                      ...   \n",
       "362                  1                    0                        0   \n",
       "363                  0                    0                        0   \n",
       "364                  0                    0                        1   \n",
       "365                  0                    1                        0   \n",
       "366                  1                    1                        0   \n",
       "\n",
       "     Property_Area_Urban  \n",
       "0                      1  \n",
       "1                      1  \n",
       "2                      1  \n",
       "3                      1  \n",
       "4                      1  \n",
       "..                   ...  \n",
       "362                    1  \n",
       "363                    1  \n",
       "364                    0  \n",
       "365                    0  \n",
       "366                    0  \n",
       "\n",
       "[367 rows x 20 columns]"
      ]
     },
     "execution_count": 53,
     "metadata": {},
     "output_type": "execute_result"
    }
   ],
   "source": [
    "Xtest_new"
   ]
  },
  {
   "cell_type": "code",
   "execution_count": 54,
   "id": "444f7aef",
   "metadata": {},
   "outputs": [],
   "source": [
    "pred_test = model1.predict(Xtest_new)"
   ]
  },
  {
   "cell_type": "code",
   "execution_count": 55,
   "id": "9def809e",
   "metadata": {},
   "outputs": [
    {
     "data": {
      "text/plain": [
       "array(['Y', 'Y', 'Y', 'Y', 'Y', 'Y', 'Y', 'N', 'Y', 'Y', 'Y', 'Y', 'Y',\n",
       "       'N', 'Y', 'Y', 'Y', 'Y', 'Y', 'Y', 'Y', 'Y', 'Y', 'Y', 'Y', 'N',\n",
       "       'Y', 'Y', 'Y', 'Y', 'Y', 'Y', 'Y', 'Y', 'Y', 'N', 'Y', 'Y', 'Y',\n",
       "       'Y', 'Y', 'Y', 'Y', 'Y', 'Y', 'Y', 'Y', 'Y', 'Y', 'Y', 'Y', 'Y',\n",
       "       'Y', 'Y', 'Y', 'Y', 'Y', 'Y', 'N', 'Y', 'Y', 'Y', 'Y', 'N', 'Y',\n",
       "       'Y', 'N', 'Y', 'Y', 'N', 'Y', 'Y', 'Y', 'Y', 'Y', 'Y', 'Y', 'Y',\n",
       "       'Y', 'Y', 'N', 'Y', 'N', 'Y', 'Y', 'Y', 'Y', 'Y', 'Y', 'Y', 'Y',\n",
       "       'Y', 'Y', 'Y', 'N', 'Y', 'Y', 'Y', 'Y', 'Y', 'Y', 'N', 'Y', 'Y',\n",
       "       'Y', 'Y', 'N', 'Y', 'Y', 'Y', 'Y', 'Y', 'Y', 'Y', 'Y', 'Y', 'Y',\n",
       "       'N', 'N', 'N', 'Y', 'Y', 'Y', 'N', 'N', 'Y', 'N', 'Y', 'Y', 'Y',\n",
       "       'Y', 'Y', 'Y', 'Y', 'Y', 'Y', 'Y', 'Y', 'Y', 'Y', 'N', 'Y', 'N',\n",
       "       'Y', 'Y', 'Y', 'Y', 'N', 'Y', 'Y', 'Y', 'Y', 'Y', 'N', 'Y', 'Y',\n",
       "       'Y', 'Y', 'Y', 'Y', 'Y', 'N', 'Y', 'Y', 'Y', 'N', 'N', 'Y', 'N',\n",
       "       'Y', 'Y', 'Y', 'Y', 'N', 'N', 'Y', 'Y', 'Y', 'Y', 'Y', 'Y', 'Y',\n",
       "       'Y', 'Y', 'Y', 'Y', 'Y', 'Y', 'Y', 'Y', 'Y', 'Y', 'N', 'N', 'Y',\n",
       "       'Y', 'N', 'Y', 'N', 'Y', 'Y', 'Y', 'Y', 'Y', 'Y', 'Y', 'Y', 'Y',\n",
       "       'Y', 'Y', 'Y', 'N', 'Y', 'Y', 'Y', 'Y', 'N', 'Y', 'Y', 'Y', 'Y',\n",
       "       'Y', 'Y', 'Y', 'N', 'Y', 'Y', 'Y', 'Y', 'N', 'Y', 'Y', 'Y', 'Y',\n",
       "       'Y', 'N', 'N', 'N', 'Y', 'Y', 'Y', 'N', 'Y', 'N', 'Y', 'N', 'Y',\n",
       "       'Y', 'Y', 'Y', 'N', 'Y', 'Y', 'Y', 'Y', 'N', 'Y', 'Y', 'Y', 'Y',\n",
       "       'Y', 'Y', 'Y', 'Y', 'Y', 'Y', 'N', 'Y', 'N', 'Y', 'Y', 'Y', 'Y',\n",
       "       'Y', 'N', 'Y', 'Y', 'Y', 'N', 'Y', 'Y', 'Y', 'Y', 'Y', 'N', 'Y',\n",
       "       'Y', 'Y', 'Y', 'Y', 'Y', 'Y', 'Y', 'N', 'Y', 'Y', 'Y', 'Y', 'Y',\n",
       "       'Y', 'Y', 'N', 'Y', 'Y', 'Y', 'Y', 'Y', 'Y', 'Y', 'Y', 'Y', 'N',\n",
       "       'Y', 'Y', 'Y', 'Y', 'Y', 'N', 'Y', 'Y', 'Y', 'Y', 'Y', 'Y', 'Y',\n",
       "       'N', 'Y', 'Y', 'Y', 'Y', 'Y', 'Y', 'Y', 'Y', 'Y', 'Y', 'Y', 'Y',\n",
       "       'Y', 'N', 'Y', 'Y', 'Y', 'Y', 'Y', 'Y', 'N', 'Y', 'Y', 'Y', 'Y',\n",
       "       'N', 'Y', 'Y', 'N', 'Y', 'Y', 'Y', 'Y', 'Y', 'Y', 'Y', 'Y', 'Y',\n",
       "       'Y', 'Y', 'Y'], dtype=object)"
      ]
     },
     "execution_count": 55,
     "metadata": {},
     "output_type": "execute_result"
    }
   ],
   "source": [
    "pred_test"
   ]
  },
  {
   "cell_type": "code",
   "execution_count": 56,
   "id": "f0d01bdd",
   "metadata": {},
   "outputs": [],
   "source": [
    "T = test[[\"Loan_ID\"]]\n",
    "T[\"Loan_Status\"] = pred_test"
   ]
  },
  {
   "cell_type": "code",
   "execution_count": 57,
   "id": "cc23edac",
   "metadata": {
    "scrolled": true
   },
   "outputs": [
    {
     "data": {
      "text/html": [
       "<div>\n",
       "<style scoped>\n",
       "    .dataframe tbody tr th:only-of-type {\n",
       "        vertical-align: middle;\n",
       "    }\n",
       "\n",
       "    .dataframe tbody tr th {\n",
       "        vertical-align: top;\n",
       "    }\n",
       "\n",
       "    .dataframe thead th {\n",
       "        text-align: right;\n",
       "    }\n",
       "</style>\n",
       "<table border=\"1\" class=\"dataframe\">\n",
       "  <thead>\n",
       "    <tr style=\"text-align: right;\">\n",
       "      <th></th>\n",
       "      <th>Loan_ID</th>\n",
       "      <th>Loan_Status</th>\n",
       "    </tr>\n",
       "  </thead>\n",
       "  <tbody>\n",
       "    <tr>\n",
       "      <th>0</th>\n",
       "      <td>LP001015</td>\n",
       "      <td>Y</td>\n",
       "    </tr>\n",
       "    <tr>\n",
       "      <th>1</th>\n",
       "      <td>LP001022</td>\n",
       "      <td>Y</td>\n",
       "    </tr>\n",
       "    <tr>\n",
       "      <th>2</th>\n",
       "      <td>LP001031</td>\n",
       "      <td>Y</td>\n",
       "    </tr>\n",
       "    <tr>\n",
       "      <th>3</th>\n",
       "      <td>LP001035</td>\n",
       "      <td>Y</td>\n",
       "    </tr>\n",
       "    <tr>\n",
       "      <th>4</th>\n",
       "      <td>LP001051</td>\n",
       "      <td>Y</td>\n",
       "    </tr>\n",
       "    <tr>\n",
       "      <th>...</th>\n",
       "      <td>...</td>\n",
       "      <td>...</td>\n",
       "    </tr>\n",
       "    <tr>\n",
       "      <th>362</th>\n",
       "      <td>LP002971</td>\n",
       "      <td>Y</td>\n",
       "    </tr>\n",
       "    <tr>\n",
       "      <th>363</th>\n",
       "      <td>LP002975</td>\n",
       "      <td>Y</td>\n",
       "    </tr>\n",
       "    <tr>\n",
       "      <th>364</th>\n",
       "      <td>LP002980</td>\n",
       "      <td>Y</td>\n",
       "    </tr>\n",
       "    <tr>\n",
       "      <th>365</th>\n",
       "      <td>LP002986</td>\n",
       "      <td>Y</td>\n",
       "    </tr>\n",
       "    <tr>\n",
       "      <th>366</th>\n",
       "      <td>LP002989</td>\n",
       "      <td>Y</td>\n",
       "    </tr>\n",
       "  </tbody>\n",
       "</table>\n",
       "<p>367 rows × 2 columns</p>\n",
       "</div>"
      ],
      "text/plain": [
       "      Loan_ID Loan_Status\n",
       "0    LP001015           Y\n",
       "1    LP001022           Y\n",
       "2    LP001031           Y\n",
       "3    LP001035           Y\n",
       "4    LP001051           Y\n",
       "..        ...         ...\n",
       "362  LP002971           Y\n",
       "363  LP002975           Y\n",
       "364  LP002980           Y\n",
       "365  LP002986           Y\n",
       "366  LP002989           Y\n",
       "\n",
       "[367 rows x 2 columns]"
      ]
     },
     "execution_count": 57,
     "metadata": {},
     "output_type": "execute_result"
    }
   ],
   "source": [
    "T"
   ]
  },
  {
   "cell_type": "code",
   "execution_count": null,
   "id": "790f136a",
   "metadata": {},
   "outputs": [],
   "source": [
    "#T.to_csv(\"Desktop/Loan_Prediction.csv\")"
   ]
  }
 ],
 "metadata": {
  "kernelspec": {
   "display_name": "Python 3",
   "language": "python",
   "name": "python3"
  },
  "language_info": {
   "codemirror_mode": {
    "name": "ipython",
    "version": 3
   },
   "file_extension": ".py",
   "mimetype": "text/x-python",
   "name": "python",
   "nbconvert_exporter": "python",
   "pygments_lexer": "ipython3",
   "version": "3.8.8"
  }
 },
 "nbformat": 4,
 "nbformat_minor": 5
}
